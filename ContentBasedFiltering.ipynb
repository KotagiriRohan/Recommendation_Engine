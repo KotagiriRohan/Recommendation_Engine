{
 "cells": [
  {
   "cell_type": "code",
   "execution_count": 1,
   "id": "fe20e377",
   "metadata": {},
   "outputs": [],
   "source": [
    "import pandas as pd\n",
    "import numpy as np\n",
    "moviecredits_df = pd.read_csv('Dataset/tmdb_5000_credits.csv')\n",
    "movie_df  = pd.read_csv('Dataset/tmdb_5000_movies.csv')"
   ]
  },
  {
   "cell_type": "code",
   "execution_count": 2,
   "id": "e5ce4cb8",
   "metadata": {},
   "outputs": [],
   "source": [
    "moviecredits_df.columns = ['id','title','cast','crew']\n",
    "movie_df = movie_df.merge(moviecredits_df,on=[\"id\",\"title\"])"
   ]
  },
  {
   "cell_type": "markdown",
   "id": "ca9d5081",
   "metadata": {},
   "source": [
    "# Plot Based Recommender"
   ]
  },
  {
   "cell_type": "code",
   "execution_count": 3,
   "id": "0cf0eba5",
   "metadata": {},
   "outputs": [
    {
     "data": {
      "text/plain": [
       "0    In the 22nd century, a paraplegic Marine is di...\n",
       "1    Captain Barbossa, long believed to be dead, ha...\n",
       "2    A cryptic message from Bond’s past sends him o...\n",
       "3    Following the death of District Attorney Harve...\n",
       "4    John Carter is a war-weary, former military ca...\n",
       "Name: overview, dtype: object"
      ]
     },
     "execution_count": 3,
     "metadata": {},
     "output_type": "execute_result"
    }
   ],
   "source": [
    "movie_df['overview'].head()"
   ]
  },
  {
   "cell_type": "code",
   "execution_count": 4,
   "id": "6b58743a",
   "metadata": {},
   "outputs": [
    {
     "data": {
      "text/plain": [
       "(4803, 20978)"
      ]
     },
     "execution_count": 4,
     "metadata": {},
     "output_type": "execute_result"
    }
   ],
   "source": [
    "#Now we'll compute Term Frequency-Inverse Document Frequency (TF-IDF) vectors for each overview\n",
    "from sklearn.feature_extraction.text import TfidfVectorizer\n",
    "\n",
    "Tfidf = TfidfVectorizer(stop_words='english')\n",
    "#fill null values with empty string\n",
    "movie_df['overview'] = movie_df['overview'].fillna('')\n",
    "\n",
    "tfidf_matrix = Tfidf.fit_transform(movie_df['overview'])\n",
    "\n",
    "tfidf_matrix.shape"
   ]
  },
  {
   "cell_type": "code",
   "execution_count": 5,
   "id": "3e3449a4",
   "metadata": {},
   "outputs": [],
   "source": [
    "#Using the cosine similarity to calculate a numeric quantity that denotes the similarity between two movies.\n",
    "#linear_kernel faster than cosine_similarities but both gives us almost the same results \n",
    "from sklearn.metrics.pairwise import linear_kernel\n",
    "\n",
    "cosine_sim = linear_kernel(tfidf_matrix, tfidf_matrix)"
   ]
  },
  {
   "cell_type": "code",
   "execution_count": 6,
   "id": "8808a757",
   "metadata": {},
   "outputs": [],
   "source": [
    "indices = pd.Series(movie_df.index, index=movie_df['title']).drop_duplicates()"
   ]
  },
  {
   "cell_type": "code",
   "execution_count": 7,
   "id": "adce0bca",
   "metadata": {},
   "outputs": [
    {
     "data": {
      "text/plain": [
       "Int64Index([3, 65, 299, 428, 1359, 3854, 119, 2507, 9, 1181], dtype='int64')"
      ]
     },
     "execution_count": 7,
     "metadata": {},
     "output_type": "execute_result"
    }
   ],
   "source": [
    "score = pd.Series(cosine_sim[3]).sort_values(ascending=False)\n",
    "score.index[:10]"
   ]
  },
  {
   "cell_type": "code",
   "execution_count": 8,
   "id": "3c760af7",
   "metadata": {},
   "outputs": [],
   "source": [
    "def get_recommendations(x,cosine_sim = cosine_sim):\n",
    "    idx = indices[x]\n",
    "    scores = pd.Series(cosine_sim[idx]).sort_values(ascending=False)\n",
    "    return movie_df['title'].iloc[scores.index[1:11]]"
   ]
  },
  {
   "cell_type": "code",
   "execution_count": 9,
   "id": "348579ff",
   "metadata": {},
   "outputs": [
    {
     "data": {
      "text/plain": [
       "7               Avengers: Age of Ultron\n",
       "3144                            Plastic\n",
       "1715                            Timecop\n",
       "4124                 This Thing of Ours\n",
       "3311              Thank You for Smoking\n",
       "3033                      The Corruptor\n",
       "588     Wall Street: Money Never Sleeps\n",
       "2136         Team America: World Police\n",
       "1468                       The Fountain\n",
       "1286                        Snowpiercer\n",
       "Name: title, dtype: object"
      ]
     },
     "execution_count": 9,
     "metadata": {},
     "output_type": "execute_result"
    }
   ],
   "source": [
    "get_recommendations('The Avengers')"
   ]
  },
  {
   "cell_type": "code",
   "execution_count": 10,
   "id": "2c321163",
   "metadata": {},
   "outputs": [
    {
     "data": {
      "text/plain": [
       "65                              The Dark Knight\n",
       "299                              Batman Forever\n",
       "428                              Batman Returns\n",
       "1359                                     Batman\n",
       "3854    Batman: The Dark Knight Returns, Part 2\n",
       "119                               Batman Begins\n",
       "2507                                  Slow Burn\n",
       "9            Batman v Superman: Dawn of Justice\n",
       "1181                                        JFK\n",
       "210                              Batman & Robin\n",
       "Name: title, dtype: object"
      ]
     },
     "execution_count": 10,
     "metadata": {},
     "output_type": "execute_result"
    }
   ],
   "source": [
    "get_recommendations('The Dark Knight Rises')"
   ]
  },
  {
   "cell_type": "code",
   "execution_count": null,
   "id": "91499edf",
   "metadata": {},
   "outputs": [],
   "source": []
  }
 ],
 "metadata": {
  "kernelspec": {
   "display_name": "Python 3",
   "language": "python",
   "name": "python3"
  },
  "language_info": {
   "codemirror_mode": {
    "name": "ipython",
    "version": 3
   },
   "file_extension": ".py",
   "mimetype": "text/x-python",
   "name": "python",
   "nbconvert_exporter": "python",
   "pygments_lexer": "ipython3",
   "version": "3.8.8"
  }
 },
 "nbformat": 4,
 "nbformat_minor": 5
}
